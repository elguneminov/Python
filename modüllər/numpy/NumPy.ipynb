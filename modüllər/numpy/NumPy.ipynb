{
 "cells": [
  {
   "cell_type": "markdown",
   "metadata": {},
   "source": [
    "# NumPy modülü\n",
    "## Import\n",
    "NumPy modülündən istifadə edə bilmək üçün, təbii ki, əvvəlcə onu import etmək lazımdı. Kodu daha səliqəli saxlamaq və başqa modüllərdə mövcud ola biləcək funskiyalar və classlarla toqquşma yaratmamaq üçün **\"from numpy import \\*\"** import sətri əksər proqramçı tərəfindən istifadə edilmir. NumPy modülünün ən çox yayılmış qısaltması \"np\"dir, və əksər kod mənbələrində NumPy modülünün **np** olaraq import edildiyini görəcəksiniz."
   ]
  },
  {
   "cell_type": "code",
   "execution_count": null,
   "metadata": {},
   "outputs": [],
   "source": [
    "import numpy as np"
   ]
  },
  {
   "cell_type": "markdown",
   "metadata": {},
   "source": [
    "#### Qeyd: Burada yazılan konseptləri tam anlamaq üçün Python proqramlaşdırma dili haqqında fundamental biliyinizin olması şərtdir."
   ]
  },
  {
   "cell_type": "markdown",
   "metadata": {},
   "source": [
    "## Giriş\n",
    "\n",
    "NumPy modülü haqqında öyrənməyimizin əsas səbəbi bu modülün bizə verdiyi \"numpy arrayi\"nin Pythonda default mövcud olan listlərdən daha sürətli və əlverişli olmasıdı. Buna görə də, ilk öncə bir \"numpy arrayi\"nin necə yaradılmasını öyrənməliyik."
   ]
  },
  {
   "cell_type": "code",
   "execution_count": null,
   "metadata": {},
   "outputs": [],
   "source": [
    "xs = np.array([1, 2, 3])\n",
    "xs"
   ]
  },
  {
   "cell_type": "markdown",
   "metadata": {},
   "source": [
    "Gördüyünüz kimi, NumPy arrayi yaratmaq çox sadədi - biz sadəcə **np.array** funksiyasından istifadə etdik, və ora parametr olaraq NumPy arrayinə çevirmək istədiyimiz listi yazdıq. Biz həmçinin ikiölçülü, üçölçülü, ... n-ölçülü arraylər də yarada bilərik."
   ]
  },
  {
   "cell_type": "code",
   "execution_count": null,
   "metadata": {},
   "outputs": [],
   "source": [
    "xs = np.array([[1, 2, 3],\n",
    "               [4, 5, 6],\n",
    "               [7, 8, 9]])\n",
    "xs"
   ]
  },
  {
   "cell_type": "markdown",
   "metadata": {},
   "source": [
    "Burada bir məqamı qeyd etmək lazımdı. Ən sadə nümunə olaraq aşağıdakı kodu götürək. Əgər ikiölçülü arrayi təşkil edən arraylərin uzunluqları biri-birinə bərabər olmazsa, onda **np.array** funksiyası bizim ikiölçülü arrayimizi təşkil edən arrayləri **list object** olaraq görəcək. Bu heç də xoşagələn bir hal deyil, ona görə ki, biz bu zaman NumPy modülünün bizə arraylər üzərindən verdiyi üstünlüklərdən tam istifadə edə bilmirik.\n",
    "\n",
    "Qeyd: Təbii ki, bu hal sadəcə ikiölçülü arraylərə deyil, üçölçülü, dördölçülü, ... n-ölçülü arraylərə də şamil olunur."
   ]
  },
  {
   "cell_type": "code",
   "execution_count": null,
   "metadata": {},
   "outputs": [],
   "source": [
    "xs = np.array([[1, 2, 3],\n",
    "               [4, 5, 6],\n",
    "               [7, 8]])\n",
    "xs"
   ]
  },
  {
   "cell_type": "markdown",
   "metadata": {},
   "source": [
    "Və görürsünüz ki, **array** obyektimiz 3 ədəd **list** obyektindən ibarətdi. Bundan əlavə sətrin sonunda **dtype=object** yazıldığını görürük. Biz NumPy arrayi yaradarkən onun data tipini də qeyd edə bilirik, və bunu etmək üçün **np.array** funksiyasına keyword-argument olaraq **dtype** parametri yaza bilərik. Məsələn, deyək ki, biz arrayimizdə kiçik tam ədədlər saxlayacağımızı bilirik, və ona görə də **int8** data tipini (yəni 8 bitdən ibarət olan tam ədədlər) istifadə etmək istəyərik. Bu zaman arrayi belə yaradarıq:"
   ]
  },
  {
   "cell_type": "code",
   "execution_count": null,
   "metadata": {},
   "outputs": [],
   "source": [
    "xs = np.array([1, 2, 3], dtype=np.int8)\n",
    "xs"
   ]
  },
  {
   "cell_type": "markdown",
   "metadata": {},
   "source": [
    "Array yaradıldıqdan sonra onun haqqında bəzi məlumatlara nəzər salmaq mümkündü. Məsələn, arrayin neçə ölçülü olması, ölçüləri, data tipi və array elementlərinin baytlarla ölçüsü. Gəlin bunları iki fərqli nümunədə gözdən keçirək. İlk nümunə:"
   ]
  },
  {
   "cell_type": "code",
   "execution_count": null,
   "metadata": {},
   "outputs": [],
   "source": [
    "xs = np.array([[1, 2, 3],\n",
    "               [4, 5, 6],\n",
    "               [7, 8, 9],\n",
    "               [0, 1, 2]], dtype=np.int16)\n",
    "\n",
    "print(\"Info:\")\n",
    "print(\"Array neçə ölçülüdür? \\t\\t\\t\\t\\t\\t\\t| \", xs.ndim)\n",
    "print(\"Arrayin ölçüləri nədir? \\t\\t\\t\\t\\t\\t| \", xs.shape)\n",
    "print(\"Arrayin elementləri hansı məlumat tipindədir? \\t\\t\\t\\t| \", xs.dtype)\n",
    "print(\"Arrayin elementlərinin hər biri yaddaşda neçə bayt yer tutur? \\t\\t| \", xs.itemsize)"
   ]
  },
  {
   "cell_type": "markdown",
   "metadata": {},
   "source": [
    "#### İzah:\n",
    "1. İlk sual (xs.ndim) bizə arrayimizin neçə ölçülü olduğunu deyir. Array ona görə ikiölçülüdür ki, bizim hər bir elementimiz iki arrayin içində yerləşir. Məsələn, 4 rəqəmi, eyni zamanda həm **[4, 5, 6]**, həm də **[[1, 2, 3], [4, 5, 6], [7, 8, 9], [0, 1, 2]]** arrayinin içindədir.\n",
    "2. İkinci sual (xs.shape) bizə arrayin ölçülərini bildirir. Arrayimiz ikiölçülü olduğu üçün, arrayimizin ölçüləri iki elementdən ibarət bir tuple-dır. Arrayin ölçüləri hesablanarkən xaricdən daxilə doğru hesablanır. Yəni, əvvəlcə ən xaricdəki array olan **[[1, 2, 3], [4, 5, 6], [7, 8, 9], [0, 1, 2]]** arrayinə baxılır. Bu array 4 individual arraydən ibarətdir. Həmçinin bu individual arraylərin hər biri 3 elementdən ibarətdir. Buna görə də, bizim arrayimizin ölçüləri **(4, 3)**dür.\n",
    "3. Üçüncü sual (xs.dtype) bizim arrayimizi təşkil edən elementlərin məlumat tipini bildirir. Biz arrayi yaradarkən məlumat tipini **np.int16** olaraq qeyd etdiyimiz üçün, təbii olaraq **xs.dtype** bizə **int16** verir.\n",
    "4. Dördüncü sual (xs.itemsize) bizim arrayimizi təşkil edən elementlərin hər birinin yaddaşda neçə bayt yer tutduğunu göstərir. Bizim hər bir elementimizin məlumat tipi **int16** olduğundan, hər biri yaddaşda **16 bit** yer tutur. Bilirik ki, **8 bit = 1 bayt**, və ona görə də, **16 bit = 2 bayt**."
   ]
  },
  {
   "cell_type": "markdown",
   "metadata": {},
   "source": [
    "İkinci nümunə:"
   ]
  },
  {
   "cell_type": "code",
   "execution_count": null,
   "metadata": {},
   "outputs": [],
   "source": [
    "xs = np.array([[[1, 2, 3]]])\n",
    "\n",
    "print(\"Info:\")\n",
    "print(\"Array neçə ölçülüdür? \\t\\t\\t\\t\\t\\t\\t| \", xs.ndim)\n",
    "print(\"Arrayin ölçüləri nədir? \\t\\t\\t\\t\\t\\t| \", xs.shape)\n",
    "print(\"Arrayin elementləri hansı məlumat tipindədir? \\t\\t\\t\\t| \", xs.dtype)\n",
    "print(\"Arrayin elementlərinin hər biri yaddaşda neçə bayt yer tutur? \\t\\t| \", xs.itemsize)"
   ]
  },
  {
   "cell_type": "markdown",
   "metadata": {},
   "source": [
    "#### İzah:\n",
    "1. İlk sual (xs.ndim) bizə arrayimizin neçə ölçülü olduğunu deyir. Array ona görə üçölçülüdür ki, bizim hər bir elementimiz üç arrayin içində yerləşir. Məsələn, 2 rəqəmi, eyni zamanda həm **[1, 2, 3]**, həm **[[1, 2, 3]]**, həm də **[[[1, 2, 3]]]** arrayinin içindədir.\n",
    "2. İkinci sual (xs.shape) bizə arrayin ölçülərini bildirir. Arrayimiz üçölçülü olduğu üçün, arrayimizin ölçüləri üç elementdən ibarət bir tuple-dır. Arrayin ölçüləri hesablanarkən xaricdən daxilə doğru hesablanır. Yəni, əvvəlcə ən xaricdəki array olan **[[[1, 2, 3]]]** arrayinə baxılır. Bu array 1 individual arraydən ibarətdir. Bu individual array **[[1, 2, 3]]** arrayidir, və bu array özü də 1 individual arraydən ibarətdir. Bu individual array **[1, 2, 3]** arrayidir, və o 3 elementdən ibarətdir. Buna görə də, bizim arrayimizin ölçüləri **(1, 1, 3)**dür.\n",
    "3. Üçüncü sual (xs.dtype) bizim arrayimizi təşkil edən elementlərin məlumat tipini bildirir. Biz arrayi yaradarkən məlumat tipini qeyd etmədiyimiz üçün, NumPy modülü bizim arrayimizin məlumat tipini hər ehtimal **int32** olaraq müəyyənləşdirib ki, yazacağımız məlumatların arrayə yerləşmə ehtimalı böyük olsun.\n",
    "4. Dördüncü sual (xs.itemsize) bizim arrayimizi təşkil edən elementlərin hər birinin yaddaşda neçə bayt yer tutduğunu göstərir. Bizim hər bir elementimizin məlumat tipi **int32** olduğundan, hər biri yaddaşda **32 bit** yer tutur. Bilirik ki, **8 bit = 1 bayt**, və ona görə də, **32 bit = 4 bayt**."
   ]
  },
  {
   "cell_type": "markdown",
   "metadata": {},
   "source": [
    "## İndeksləmə\n",
    "\n",
    "Bura qədər NumPy arraylərinin yaradılması, neçə ölçülü olması, ölçülərinin müəyyənləşdirilməsi, arrayi təşkil edən elementlərin məlumat tipinin müəyyənləşdirilməsi və hər bir array elementinin yaddaşda neçə bayt yer tutması haqqında öyrənmişik. NumPy arraylərindən istifadə edərkən dəqiq öyrənilməsi mühim olan konseptlərdən biri arrayin **indekslənməsi**dir. Bu konsept normal Python listlərinin indekslənməsindən bir qədər fərqlənir.\n",
    "\n",
    "Bu bölməmizdə hər dəfə yeni arraylər yaratmayacağımız üçün, aşağıdakı kodda iki obyekt yaratmışam. Bunların birincisi normal **Python listidir**, ikincisi isə **NumPy arraydir**. Hər iki obyektin elementləri eynidir."
   ]
  },
  {
   "cell_type": "code",
   "execution_count": null,
   "metadata": {},
   "outputs": [],
   "source": [
    "python_list = [[1,  2,  3,  4],\n",
    "               [5,  6,  7,  8],\n",
    "               [9, 10, 11, 12]]\n",
    "\n",
    "numpy_array = np.array([[1,  2,  3,  4],\n",
    "                        [5,  6,  7,  8],\n",
    "                        [9, 10, 11, 12]])\n",
    "\n",
    "print(python_list)\n",
    "print()\n",
    "print(numpy_array)"
   ]
  },
  {
   "cell_type": "markdown",
   "metadata": {},
   "source": [
    "Təsəvvür edək ki, 7 ədədini ekrana çap etmək istəyirik. Yəni 2ci sıra, 3cü sütunda yerləşən elementi (indekslər sıfırdan başladığı üçün, 1ci sıra, 2ci sütun olacaq)."
   ]
  },
  {
   "cell_type": "code",
   "execution_count": null,
   "metadata": {},
   "outputs": [],
   "source": [
    "print(python_list[1][2])\n",
    "print()\n",
    "print(numpy_array[1][2])"
   ]
  },
  {
   "cell_type": "markdown",
   "metadata": {},
   "source": [
    "Görürsünüz ki, hər iki obyektdən indeksləməni eyni üsulla etdik. NumPy arraylərini Python listləri kimi indeksləmək mümkün olsa da, əksər hallarda aşağıdakı kimi indeksləmə ilə qarşılaşacaqsınız:"
   ]
  },
  {
   "cell_type": "code",
   "execution_count": null,
   "metadata": {},
   "outputs": [],
   "source": [
    "print(numpy_array[1, 2])"
   ]
  },
  {
   "cell_type": "markdown",
   "metadata": {},
   "source": [
    "Eyni indeksləməni Python listləri ilə etmək istəsək, **TypeError** çıxacaq. Aşağıdakı kodda *try-except* bloku ilə **TypeError** exceptionunu göstərmişəm:"
   ]
  },
  {
   "cell_type": "code",
   "execution_count": null,
   "metadata": {},
   "outputs": [],
   "source": [
    "try:\n",
    "    print(python_list[1, 2])\n",
    "except TypeError as te:\n",
    "    print(\"Xəta: TypeError\")\n",
    "    print(\"Xətanın məzmunu:\", te)"
   ]
  },
  {
   "cell_type": "markdown",
   "metadata": {},
   "source": [
    "Bu ona görədir ki, bu tip indeksləmə NumPy arraylərinə xas olan bir özəllikdir, və kod mənbələrində bu tip indeksləmələrlə çox qarşılaşacaqsınız.\n",
    "\n",
    "İndeksləmə vasitəsilə individual elementləri ekrana çap etməkdən əlavə, müəyyən aralıqları da ekrana çap etmək mümkündür. Məsələn, gəlin **[9, 10, 11]** aralığını ekrana çap edək. Bu aralıq 3-cü sətrin 1-ci elementindən başlayır, və 3-cü sətrin 3-cü elementində qurtarır."
   ]
  },
  {
   "cell_type": "code",
   "execution_count": null,
   "metadata": {},
   "outputs": [],
   "source": [
    "print(python_list[2][0:3])\n",
    "print()\n",
    "print(numpy_array[2][0:3])"
   ]
  },
  {
   "cell_type": "markdown",
   "metadata": {},
   "source": [
    "Yenə də, nəticələrimiz eynidir. Lakin, eyni indeksləməni NumPy arraylərinin xüsusi indekslənmə metodu ilə də edə bilərik:"
   ]
  },
  {
   "cell_type": "code",
   "execution_count": null,
   "metadata": {},
   "outputs": [],
   "source": [
    "print(numpy_array[2, 0:2])"
   ]
  },
  {
   "cell_type": "markdown",
   "metadata": {},
   "source": [
    "Ola bilsin ki, bizim müraciət etmək istədiyimiz aralıq sadəcə bir deyil, bir neçə arrayin tərkibində olsun. Məsələn:\n",
    "\n",
    "[[5,  6,  7],\n",
    " [9, 10, 11]]\n",
    "\n",
    "Bu aralığa təəssüf olsun ki, python listlərindən istifadə edərək birbaşa müraciət etmək mümkün deyil. Lakin biz NumPy arraylərinə xas olan indeksləmədən istifadə edə bilərik:"
   ]
  },
  {
   "cell_type": "code",
   "execution_count": null,
   "metadata": {},
   "outputs": [],
   "source": [
    "print(numpy_array[1:3, 0:3])"
   ]
  },
  {
   "cell_type": "markdown",
   "metadata": {},
   "source": [
    "NumPy arraylərinə xas olan indeksləmənin üstünlüyü də məhz budur. Biz istədiyimiz aralığa bu şəkildə birbaşa müraciət edə bilirik.\n",
    "\n",
    "Qeyd: **numpy_array[1:3, 0:3]** yazılışında bəzi ixtisarlar etmək mümkündü. İlk hissədə, arrayimizin 3 sırası olduğu üçün, **1:3** aralığı sadə olaraq **1:** kimi göstərilə bilər. İkinci hissədə isə, **0:3** aralığını **:3** kimi göstərmək mümkündür."
   ]
  },
  {
   "cell_type": "code",
   "execution_count": null,
   "metadata": {},
   "outputs": [],
   "source": [
    "print(numpy_array[1:, :3])"
   ]
  },
  {
   "cell_type": "markdown",
   "metadata": {},
   "source": [
    "## Xüsusi növ arraylər\n",
    "\n",
    "Bir neçə array tipi var ki, onları proqramçı tez-tez istifadə etməyə ehtiyac duyur. Məsələn, bütünlükdə sıfırlardan, birlərdən, ixtiyari ədədlərdən və ya hər hansı başqa bir qiymətdən ibarət olan bir array. Və ya xətti cəbrdə tez-tez istifadə edilən **Identity Matrix**. Bu tip arrayləri yaratmaq üçün NumPy modülündə hazır funksiyalar mövcuddur."
   ]
  },
  {
   "cell_type": "markdown",
   "metadata": {},
   "source": [
    "#### Sıfırlardan ibarət array\n",
    "\n",
    "Bu tip arrayi yaratmaq üçün **np.zeros** və **np.zeros_like** funksiyaları bizə kömək edəcək. İki funksiya biri-birinə oxşasa da, əsas fərq ondadır ki, **np.zeros** funksiyası parametr olaraq yaradılacaq sıfırlardan ibarət arrayin **shape**-ini götürür, **np.zeros_like** isə parametr olaraq bir *numpy array* götürür, və onun **shape**-inə uyğun olan sıfırlardan ibarət bir array yaradır."
   ]
  },
  {
   "cell_type": "code",
   "execution_count": null,
   "metadata": {},
   "outputs": [],
   "source": [
    "zero_array1 = np.zeros((3, 4))\n",
    "print(zero_array1)"
   ]
  },
  {
   "cell_type": "code",
   "execution_count": null,
   "metadata": {},
   "outputs": [],
   "source": [
    "test_array = np.array([[1, 2, 3],\n",
    "                       [4, 5, 6],\n",
    "                       [7, 8, 9]])\n",
    "zero_array2 = np.zeros_like(test_array)\n",
    "print(test_array)\n",
    "print()\n",
    "print(zero_array2)"
   ]
  },
  {
   "cell_type": "markdown",
   "metadata": {},
   "source": [
    "#### Birlərdən ibarət array\n",
    "\n",
    "Bu array eynilə *sıfırlardan ibarət array*ə bənzəyir. Tək fərq, bütün elementlərin sıfır yox, bir olmasıdı. Bunun üçün də iki funksiya mövcuddu: **np.ones** və **np.ones_like**, və bu funksiyaların iş prinsipləri də, yuxarıda qeyd etdiyim sıfır arrayi yaradan funksiyaların iş prinsipləri ilə eynidir."
   ]
  },
  {
   "cell_type": "code",
   "execution_count": null,
   "metadata": {},
   "outputs": [],
   "source": [
    "one_array1 = np.ones((5, 5))\n",
    "print(one_array1)"
   ]
  },
  {
   "cell_type": "code",
   "execution_count": null,
   "metadata": {},
   "outputs": [],
   "source": [
    "test_array = np.array([[1, 2, 3],\n",
    "                       [4, 5, 6],\n",
    "                       [7, 8, 9]])\n",
    "one_array2 = np.ones_like(test_array)\n",
    "print(test_array)\n",
    "print()\n",
    "print(one_array2)"
   ]
  },
  {
   "cell_type": "markdown",
   "metadata": {},
   "source": [
    "#### Məlumat tipi ilə bağlı önəmli bir məqam\n",
    "\n",
    "Fikir verirsinizsə, **np.zeros** və **np.ones** funksiyalarının bizə verdiyi arraylərdə sıfırlar və birlərdən sonra nöqtə qoyulub. Bu ona görədir ki, bu arraylərə biz məlumat tipi verməmişik, və NumPy modülü hər ehtimala qarşı bu arraylərin məlumat tipini, yəni **dtype** parametrini **np.float64** edib. Biz **np.zeros_like** və **np.ones_like** funksiyalarını işlədəndə isə, nəticədə bizə verilən arraylərin məlumat tipləri funksiyalara parametr kimi verdiyimiz arraylərin məlumat tipləri ilə üst-üstə düşür. Əgər sizin yazdığınız kodda bu arraylərdəki ədədlərin **float64** olması məcbur deyilsə, arraylərin yaddaşda daha az yer tutması üçün bu məlumat tipini dəyişə bilərsiniz. Bunun üçün sadəcə olaraq **np.zeros** və **np.ones** funksiyalarına **dtype** parametri vermək kifayətdir:"
   ]
  },
  {
   "cell_type": "code",
   "execution_count": null,
   "metadata": {},
   "outputs": [],
   "source": [
    "zero_array3 = np.zeros((4, 4), dtype=np.int8)\n",
    "one_array3 = np.ones((4, 4), dtype=np.int8)\n",
    "print(zero_array3)\n",
    "print(one_array3)"
   ]
  },
  {
   "cell_type": "markdown",
   "metadata": {},
   "source": [
    "#### Müəyyən bir ədəddən ibarət olan array\n",
    "\n",
    "Bəzən ola bilər ki, bizə bütün elementləri müəyyən bir ədəd olan bir array lazım olsun. Bunun üçün NumPy modülündə istifadə edəbiləcəyimiz bir funksiya mövcuddu, və bu **np.full** funksiyasıdı. Bu funksiyaya parametr olaraq yaradılacaq arrayin **shape**-ini, və arrayi hansı ədədlə doldurmaq istədiyimizi qeyd etməliyik. Əgər istəsək, məlumat tipi də **dtype** parametri ilə qeyd edə bilərik.\n",
    "\n",
    "Həmçinin **np.zeros_like** və **np.ones_like** kimi, **np.full_like** funksiyası da mövcuddu."
   ]
  },
  {
   "cell_type": "code",
   "execution_count": null,
   "metadata": {},
   "outputs": [],
   "source": [
    "full_array1 = np.full((3, 3), 528, dtype=np.int16)\n",
    "print(full_array1)"
   ]
  },
  {
   "cell_type": "code",
   "execution_count": null,
   "metadata": {},
   "outputs": [],
   "source": [
    "test_array = np.array([[1, 2, 3],\n",
    "                       [4, 5, 6],\n",
    "                       [7, 8, 9]])\n",
    "full_array2 = np.full_like(test_array, 528)\n",
    "print(test_array)\n",
    "print()\n",
    "print(full_array2)"
   ]
  },
  {
   "cell_type": "markdown",
   "metadata": {},
   "source": [
    "#### Identity Matrix\n",
    "\n",
    "Xətti cəbrdə hesablamalar zamanı çox zaman **Identity Matrix** adlı xüsusi tip bir arrayə ehtiyac yaranır. Bu arrayin sol üst küncü ilə sağ alt küncünü birləşdirən diaqonalı birlərdən, qalanı isə sıfırlardan ibarətdir. Bu xüsusi arrayi yaratmaq üçün **np.identity** və ya **np.eye** funksiyalarından istifadə edə bilərik. Bu iki funksiya eyni nəticəni versə də, **np.eye** funksiyası **np.identity** funksiyasına nisbətən daha kompleks əməliyyatları da icra edə bilir. Daha ətraflı öyrənmək üçün documentationa müraciət edə bilərsiniz."
   ]
  },
  {
   "cell_type": "code",
   "execution_count": null,
   "metadata": {},
   "outputs": [],
   "source": [
    "identity1 = np.identity(4)\n",
    "identity2 = np.eye(4)\n",
    "\n",
    "print(identity1)\n",
    "print()\n",
    "print(identity2)"
   ]
  },
  {
   "cell_type": "markdown",
   "metadata": {},
   "source": [
    "#### İxtiyari ədədlərdən ibarət array\n",
    "\n",
    "Ola bilsin ki, biz proqram yazarkən bizə ixtiyari ədədlərdən ibarət bir array lazım olsun. Bunun üçün **np.random.rand** funksiyası, və ya **np.random.random_sample** funksiyası bizə kömək edə bilər. Tək fərq ondadır ki, **np.random.rand** funksiyası parametr olaraq yaradılacaq arrayin **shape**-ini bir-bir götürür (unpack olunmuş vəziyyətdə), **np.random.random_sample** funksiyası isə *tuple* formasında.\n",
    "\n",
    "Qeyd: Fərq vizual olaraq aydın görünsün deyə hər iki kodu bir qədər sağa çəkmişəm."
   ]
  },
  {
   "cell_type": "code",
   "execution_count": null,
   "metadata": {},
   "outputs": [],
   "source": [
    "random_array1 =               np.random.rand(3, 3)\n",
    "random_array2 =     np.random.random_sample((3, 3))\n",
    "print(random_array1)\n",
    "print()\n",
    "print(random_array2)"
   ]
  },
  {
   "cell_type": "markdown",
   "metadata": {},
   "source": [
    "Təbii ki, bu funksiyalar bizə [0, 1) aralığında ixtiyari ədədlər qaytardığı üçün, bizə ixtiyari tam ədədlərdən ibarət array yaradan funksiya da lazım olur. Bunun üçün **np.random.randint** funksiyasından istifadə edə bilərik. Bu funksiya parametr olaraq *başlanğıc* nöqtəsi, *son nöqtəsi*, və yaradılacaq arrayin ölçüsünü götürür. Məsələn, aşağıdakı funksiya **[5, 25)** aralığında ixtiyari tam ədədlərdən ibarət olan **(4, 4)** ölçülü bir array yaradır."
   ]
  },
  {
   "cell_type": "code",
   "execution_count": null,
   "metadata": {},
   "outputs": [],
   "source": [
    "randint_array = np.random.randint(5, 25, (4, 4))\n",
    "print(randint_array)"
   ]
  },
  {
   "cell_type": "markdown",
   "metadata": {},
   "source": [
    "## Riyazi əməliyyatlar.\n",
    "\n",
    "Çox zaman NumPy arrayləri ilə işləyərkən tez bir şəkildə riyazi əməliyyatları yerinə yetirə bilmək lazım gəlir. Məsələn, deyək ki, əlimizdə iki array var: **[2, 4, 6]** və **[1, 7, 9]** arrayləri. Bizə yeri gəldikdə bu iki arrayin elementlərini toplamaq, çıxmaq, vurmaq, qüvvətə yüksəltmək, bölmək, tam bölmək və qalıq tapmaq lazım gələ bilər. Bu əməliyyatları normal Python listləri ilə etməyə çalışsaq, toplama əməliyyatı zamanı listlər biri-birinin ardına birləşəcək, digər əməliyyatlar zamanı isə **TypeError** çıxacaq. Aşağıdakı kodda *try-except* bloku ilə **TypeError** exceptionunu göstərmişəm. "
   ]
  },
  {
   "cell_type": "code",
   "execution_count": null,
   "metadata": {},
   "outputs": [],
   "source": [
    "list1 = [2, 4, 6]\n",
    "list2 = [1, 7, 9]\n",
    "\n",
    "print(list1 + list2)\n",
    "print()\n",
    "\n",
    "try:\n",
    "    print(list1 - list2)\n",
    "except TypeError as te:\n",
    "    print(\"Xəta: TypeError\")\n",
    "    print(\"Xətanın məzmunu:\", te)\n",
    "print()\n",
    "\n",
    "try:\n",
    "    print(list1 * list2)\n",
    "except TypeError as te:\n",
    "    print(\"Xəta: TypeError\")\n",
    "    print(\"Xətanın məzmunu:\", te)\n",
    "print()\n",
    "\n",
    "try:\n",
    "    print(list1 ** list2)\n",
    "except TypeError as te:\n",
    "    print(\"Xəta: TypeError\")\n",
    "    print(\"Xətanın məzmunu:\", te)\n",
    "print()\n",
    "\n",
    "try:\n",
    "    print(list1 / list2)\n",
    "except TypeError as te:\n",
    "    print(\"Xəta: TypeError\")\n",
    "    print(\"Xətanın məzmunu:\", te)\n",
    "print()\n",
    "\n",
    "try:\n",
    "    print(list1 // list2)\n",
    "except TypeError as te:\n",
    "    print(\"Xəta: TypeError\")\n",
    "    print(\"Xətanın məzmunu:\", te)\n",
    "print()\n",
    "\n",
    "try:\n",
    "    print(list1 % list2)\n",
    "except TypeError as te:\n",
    "    print(\"Xəta: TypeError\")\n",
    "    print(\"Xətanın məzmunu:\", te)\n",
    "print()"
   ]
  },
  {
   "cell_type": "markdown",
   "metadata": {},
   "source": [
    "NumPy arrayləri ilə isə, bu əməliyyatların hər birini etmək mümkündür. Bu əməliyyatlar hər bir elementə uyğun olaraq tətbiq olunduğu üçün, **element-wise operation** adlanırlar. Aşağıdakı nümunədə hər birini göstərmişəm:"
   ]
  },
  {
   "cell_type": "code",
   "execution_count": null,
   "metadata": {},
   "outputs": [],
   "source": [
    "array1 = np.array([2, 4, 6])\n",
    "array2 = np.array([1, 7, 9])\n",
    "\n",
    "print(\"{} {:^3} {} = {}\".format(\"array1\", \"+\", \"array2\", str(array1 + array2)))\n",
    "print(\"{} {:^3} {} = {}\".format(\"array1\", \"-\", \"array2\", str(array1 - array2)))\n",
    "print(\"{} {:^3} {} = {}\".format(\"array1\", \"*\", \"array2\", str(array1 * array2)))\n",
    "print(\"{} {:^3} {} = {}\".format(\"array1\", \"**\", \"array2\", str(array1 ** array2)))\n",
    "print(\"{} {:^3} {} = {}\".format(\"array1\", \"/\", \"array2\", str(array1 / array2)))\n",
    "print(\"{} {:^3} {} = {}\".format(\"array1\", \"//\", \"array2\", str(array1 // array2)))\n",
    "print(\"{} {:^3} {} = {}\".format(\"array1\", \"%\", \"array2\", str(array1 % array2)))"
   ]
  },
  {
   "cell_type": "markdown",
   "metadata": {},
   "source": [
    "## Broadcasting\n",
    "\n",
    "Bəzən yazdığımız proqramda ehtiyac yaranır ki, biz istifadə etdiyimiz NumPy arrayinin hər bir elementinə müəyyən bir əməliyyatı tətbiq edək. Bu əməliyyat yüzlərlə sətirdən ibarət bir funksiya da ola bilər, sadə bir ikiyə vurma əməliyyatı da. Bu tip prosesləri daha asan və qarışıq kod yazmadan edə bilmək üçün, NumPy modülü bizə imkan yaradır ki, arraylərə **broadcasting** tətbiq edək. Yəni, bir əməliyyat arrayin bütün elementlərinə şamil olunsun. Məsələn, aşağıda bir neçə riyazi əməliyyatın necə broadcast oluna biləcəyini göstərmişəm."
   ]
  },
  {
   "cell_type": "code",
   "execution_count": null,
   "metadata": {},
   "outputs": [],
   "source": [
    "xs = np.array([1, 2, 3, 4, 5])"
   ]
  },
  {
   "cell_type": "code",
   "execution_count": null,
   "metadata": {},
   "outputs": [],
   "source": [
    "print(\"{} {:^3} {} = {}\".format(\"xs\", \"+\", 3, str(xs + 3)))\n",
    "print(\"{} {:^3} {} = {}\".format(\"xs\", \"-\", 3, str(xs - 3)))\n",
    "print(\"{} {:^3} {} = {}\".format(\"xs\", \"*\", 3, str(xs * 3)))\n",
    "print(\"{} {:^3} {} = {}\".format(\"xs\", \"**\", 3, str(xs ** 3)))\n",
    "print(\"{} {:^3} {} = {}\".format(\"xs\", \"/\", 3, str(xs / 3)))\n",
    "print(\"{} {:^3} {} = {}\".format(\"xs\", \"//\", 3, str(xs // 3)))\n",
    "print(\"{} {:^3} {} = {}\".format(\"xs\", \"%\", 3, str(xs % 3)))"
   ]
  },
  {
   "cell_type": "markdown",
   "metadata": {},
   "source": [
    "Fikir verirsinizsə, bütün əməliyyatlar yenə də **element-wise** oldu. Yəni hər bir elementlə 3ü topladıq, hər bir elementdən 3ü çıxdıq, və s.\n",
    "\n",
    "Kod yazıb göstərmək lazımsız olsa da, bir daha qeyd etmək istəyirəm ki, bu əməliyyatlar normal Python listləri ilə mümkün deyil, və bu əməliyyatları əgər Python listləri ilə etməyə çalışsaq, yenə **TypeError** exceptionu ilə qarşılaşacayıq.\n",
    "\n",
    "Həmçinin, broadcasting əməliyyatı ilə qısaldılmış operatorlardan (+=, -=, və s.) istifadə etmək də mümkündür. Bunlardan əlavə, bütövlükdə n-ölçülü (n > 1) arrayin tərkibindəki hər hansı bir arrayə = operatoru ilə qiymət broadcast edə bilərik. Məsələn:"
   ]
  },
  {
   "cell_type": "code",
   "execution_count": null,
   "metadata": {
    "scrolled": true
   },
   "outputs": [],
   "source": [
    "xs = np.array([[[1, 2, 3, 4],\n",
    "                [5, 6, 7, 8]],\n",
    "              \n",
    "               [[9, 8, 7, 6],\n",
    "                [5, 4, 3, 2]]])\n",
    "print(\"Array\")\n",
    "print(xs)\n",
    "print()\n",
    "\n",
    "print(\"Dəyişiləcək hissə:\")\n",
    "print(xs[:, 1, 1:3])\n",
    "xs[:, 1, 1:3] = 0\n",
    "print()\n",
    "\n",
    "print(\"Array\")\n",
    "print(xs)\n",
    "print()"
   ]
  },
  {
   "cell_type": "markdown",
   "metadata": {},
   "source": [
    "## Vektor və Matriks əməliyyatları\n",
    "\n",
    "Bildiyiniz kimi, *Maşın öyrənmə*, *Süni intellekt*, *Data Analitikası*, və digər oxşar sahələrdə Pythondan verilən məlumatları idarə etmək üçün geniş istifadə olunur. Bu sahələrdə çalışan proqramçıların yazdıqları kodların demək olar ki, hamısında NumPy modülündən istifadə edilir. Burada məqsəd, verilən məlumatları bir arrayə yığmaq və onu tez və rahat bir şəkildə emal edə bilməkdir. Lakin bəzi hallarda NumPy arrayləri xətti cəbrdən bizə tanış olan **vektor** və **matriks**ləri təmsil edirlər. Buna görə də, ehtiyac yaranır ki, xətti cəbrdə vektorlar və matrikslər üzərində apara biləcəyimiz bir sıra əməliyyatı tez bir şəkildə NumPy modülündən istifadə edərək apara bilək. Gəlin bu əməliyyatların bəzilərinə tez bir şəkildə nəzər salaq."
   ]
  },
  {
   "cell_type": "markdown",
   "metadata": {},
   "source": [
    "#### Nöqtə Hasili (Dot Product)\n",
    "\n",
    "Vektor və Matrikslərin nöqtə hasilini tapmaq üçün NumPy modülündə olan **np.dot** funksiyasından, və ya sadəcə olaraq **@** operatorundan istifadə edə bilərik. Nümunə üçün aşağıda 3 kod göstərmişəm (vektor @ vektor, vektor @ matriks, matriks @ vektor):"
   ]
  },
  {
   "cell_type": "code",
   "execution_count": null,
   "metadata": {},
   "outputs": [],
   "source": [
    "vector1 = np.array([1, 2, 3])\n",
    "vector2 = np.array([4, 5, 6])\n",
    "\n",
    "\n",
    "matrix1 = np.array([[1, 2, 3],\n",
    "                    [4, 5, 6],\n",
    "                    [7, 8, 9]])\n",
    "\n",
    "matrix2 = np.array([[3, 7, 1],\n",
    "                    [5, 8, 4],\n",
    "                    [1, 2, 7]])"
   ]
  },
  {
   "cell_type": "code",
   "execution_count": null,
   "metadata": {},
   "outputs": [],
   "source": [
    "print(\"vector1 @ vector2:\")\n",
    "print(vector1 @ vector2)"
   ]
  },
  {
   "cell_type": "code",
   "execution_count": null,
   "metadata": {},
   "outputs": [],
   "source": [
    "print(\"vector1 @ matrix1:\")\n",
    "print(vector1 @ matrix1)"
   ]
  },
  {
   "cell_type": "code",
   "execution_count": null,
   "metadata": {},
   "outputs": [],
   "source": [
    "print(\"matrix1 @ matrix2:\")\n",
    "print(matrix1 @ matrix2)"
   ]
  },
  {
   "cell_type": "markdown",
   "metadata": {},
   "source": [
    "#### Outer Product\n",
    "\n",
    "Vektor və matrikslərin **outer product**-ını tapmaq üçün **np.outer** funksiyasından istifadə edə bilərik."
   ]
  },
  {
   "cell_type": "code",
   "execution_count": null,
   "metadata": {},
   "outputs": [],
   "source": [
    "print(np.outer(vector1, vector2))"
   ]
  },
  {
   "cell_type": "code",
   "execution_count": null,
   "metadata": {},
   "outputs": [],
   "source": [
    "print(np.outer(vector1, matrix1))"
   ]
  },
  {
   "cell_type": "code",
   "execution_count": null,
   "metadata": {},
   "outputs": [],
   "source": [
    "print(np.outer(matrix1, matrix2))"
   ]
  },
  {
   "cell_type": "markdown",
   "metadata": {},
   "source": [
    "#### Inverse\n",
    "\n",
    "Matrikslərin **inverse**-ünü tapmaq üçün **np.linalg.inv** funksiyasından istifadə edə bilərik."
   ]
  },
  {
   "cell_type": "code",
   "execution_count": null,
   "metadata": {},
   "outputs": [],
   "source": [
    "print(np.linalg.inv(matrix1))\n",
    "print()\n",
    "print(np.linalg.inv(matrix2))"
   ]
  },
  {
   "cell_type": "markdown",
   "metadata": {},
   "source": [
    "#### Transpose\n",
    "\n",
    "Matrikslərin **transpose**-unu tapmaq üçün həm **np.transpose** funksiyasına parametr olaraq matriksi verə bilərik, həm də matriksin **T** attributundan istifadə edə bilərik."
   ]
  },
  {
   "cell_type": "code",
   "execution_count": null,
   "metadata": {},
   "outputs": [],
   "source": [
    "matrix3 = np.array([[1, 2, 3, 4, 5, 6],\n",
    "                    [7, 8, 9, 0, 1, 2]])\n",
    "transpose_matrix1 = np.transpose(matrix3)\n",
    "transpose_matrix2 = matrix3.T\n",
    "\n",
    "print(matrix3)\n",
    "print()\n",
    "print(transpose_matrix1)\n",
    "print()\n",
    "print(transpose_matrix2)"
   ]
  },
  {
   "cell_type": "markdown",
   "metadata": {},
   "source": [
    "## NumPy modülünün işlək funksiyaları\n",
    "\n",
    "Bura qədər üstündən keçdiyimiz konseptlər demək olar ki, NumPy modülünün əsasını təşkil edir. Bunlardan əlavə olaraq, NumPy modülündə tez-tez istifadə edilən konseptlərin bir neçəsini aşağıda qeyd etmişəm."
   ]
  },
  {
   "cell_type": "markdown",
   "metadata": {},
   "source": [
    "#### Linspace\n",
    "\n",
    "**np.linspace** funksiyası NumPy modülünün ən çox istifadə edilən funksiyalarından biridir. Bu funksiya əsasən aşağıdakı formatda istifadə edilir:\n",
    "\n",
    "np.linspace(başlanğıc, son, n)\n",
    "\n",
    "Bu funksiya bizə *başlanğıc*dan *son*a qədər *n* sayda ədəddən ibarət bir NumPy arrayi verir. Arrayi təşkil edən ədədlər biri-birindən eyni məsafədə yerləşirlər. Məsələn:"
   ]
  },
  {
   "cell_type": "code",
   "execution_count": null,
   "metadata": {},
   "outputs": [],
   "source": [
    "xs = np.linspace(10, 50, 5)\n",
    "print(xs)"
   ]
  },
  {
   "cell_type": "markdown",
   "metadata": {},
   "source": [
    "Gördüyünüz kimi, yuxarıdakı kodda *10* və *50* arasında *5* dənə ədəddən ibarət bir array yaradıldı. Default olaraq bu arrayin məlumat tipi **np.float64** olsa da, **np.linspace** funksiyasına əlavə parametr olaraq **dtype** da verə bilərik."
   ]
  },
  {
   "cell_type": "code",
   "execution_count": null,
   "metadata": {},
   "outputs": [],
   "source": [
    "xs = np.linspace(10, 50, 5, dtype=np.int8)\n",
    "print(xs)"
   ]
  },
  {
   "cell_type": "markdown",
   "metadata": {},
   "source": [
    "#### Multiple indexing\n",
    "\n",
    "Öyrəndik ki, arrayin həm tək elementini, həm də müəyyən aralığını indeksləyə bilirik. Bundan əlavə, eyni anda çoxlu elementini də götürə bilərik. Məsələn, ola bilsin ki, **[5, 8, 7, 11, 36, 92, 45]** arrayinin **[1, 2, 4]** indeksləri bizə lazım olsun. Aşağıdakı kod bunu necə edə biləcəyimizi göstərir."
   ]
  },
  {
   "cell_type": "code",
   "execution_count": null,
   "metadata": {},
   "outputs": [],
   "source": [
    "xs = np.array([5, 8, 7, 11, 36, 92, 45])\n",
    "indices = [1, 2, 4]\n",
    "print(xs[indices])"
   ]
  },
  {
   "cell_type": "markdown",
   "metadata": {},
   "source": [
    "Gördüyünüz kimi, indekslərdən ibarət olan listdən istifadə edərək arrayimizi indeksləyə bilərik."
   ]
  },
  {
   "cell_type": "markdown",
   "metadata": {},
   "source": [
    "#### Boolean indexing\n",
    "\n",
    "İndekslərdən ibarət listdən istifadə edərək arrayimizi indeksləməkdən əlavə, **True** və **False** qiymətlərdən ibarət bir listdən istifadə edərək də arrayimizi indeksləyə bilərik. Məsələn:"
   ]
  },
  {
   "cell_type": "code",
   "execution_count": null,
   "metadata": {},
   "outputs": [],
   "source": [
    "xs = np.array([5, 8, 7, 11, 36, 92, 45])\n",
    "boolean_indices = [False, True, True, False, True, False, False]\n",
    "print(xs[boolean_indices])"
   ]
  },
  {
   "cell_type": "markdown",
   "metadata": {},
   "source": [
    "#### Boolean operatorların broadcast edilməsi\n",
    "\n",
    "**Boolean indexing** bir problem yaranır: həddindən artıq uzun arrayləri bu şəkildə indeksləmək heç də əlverişli deyil. Bir-bir **boolean_indices** arrayinə **True** və **False** yazmaq çox uzun zaman çəkir. Buna görə də, **boolean operator**ları **broadcast** edərək **boolean_indices** arrayini qısa bir şəkildə ala bilərik."
   ]
  },
  {
   "cell_type": "code",
   "execution_count": null,
   "metadata": {},
   "outputs": [],
   "source": [
    "xs = np.array([3, 10, 4, 1, 26, 9, 4])\n",
    "boolean_indices = xs > 5\n",
    "print(boolean_indices)\n",
    "print(xs[boolean_indices])"
   ]
  },
  {
   "cell_type": "markdown",
   "metadata": {},
   "source": [
    "Aşağıda boolean operatorların broadcast edilməsini daha aydın göstərmişəm."
   ]
  },
  {
   "cell_type": "code",
   "execution_count": null,
   "metadata": {},
   "outputs": [],
   "source": [
    "xs = np.array([5, 8, 4, 3, 1, 6, 9, 2])\n",
    "\n",
    "print(\"xs     :\", xs)\n",
    "print(\"xs >  5:\", xs > 5)\n",
    "print(\"xs <  5:\", xs < 5)\n",
    "print(\"xs >= 5:\", xs >= 5)\n",
    "print(\"xs <= 5:\", xs <= 5)\n",
    "print(\"xs == 5:\", xs == 5)\n",
    "print(\"xs != 5:\", xs != 5)"
   ]
  },
  {
   "cell_type": "markdown",
   "metadata": {},
   "source": [
    "#### Where\n",
    "\n",
    "Bəzən bizə bütövlükdə arrayin özü yox, müəyyən şərti ödəyən elementlərinin indeksləri lazım olur. Məsələn, **[30, 4, 15, 44, 23, 52]** arrayində bizə 25dən böyük ədədlər lazım ola bilər. Bu elementlərin indekslərini tapmaq üçün **np.where** funksiyası bizə kömək edir."
   ]
  },
  {
   "cell_type": "code",
   "execution_count": null,
   "metadata": {},
   "outputs": [],
   "source": [
    "xs = np.array([30, 4, 15, 44, 23, 52])\n",
    "indices = np.where(xs > 25)\n",
    "print(indices)\n",
    "print(xs[indices])"
   ]
  },
  {
   "cell_type": "markdown",
   "metadata": {},
   "source": [
    "#### Allclose\n",
    "\n",
    "Riyaziyyat nə qədər dəqiq elm olsa da, bütün riyazi əməliyyatlarla hər hansı məsələni 100% dəqiqliklə həll etmək mümkün deyil. Həmişə, mütləq alınan cavabla real cavab biri-birindən cüzi də olsa fərqlənir. Bunun əsas səbəbi Pythonda kəsr ədədlərin yaddaşda saxlanılması üsuludu. Əgər iki arrayin tam bərabər olmasa da, biri-birinə kifayət qədər yaxın olduğunu bilmək istəsək, **np.allclose** funksiyasını işlədə bilərik. Bu funksiya parametr olaraq müqayisə ediləcək iki arrayi, və əlavə olaraq **rtol** və **atol** parametrlərini, yəni arraylərin nə qədər yaxın olmasının kifayət olduğunu götürür. Əgər **rtol** və **atol** parametrlərinə heç bir qiymət verməsək, default olaraq **rtol=1e-05** və **atol=1e-08** götürülür. Funksiya aşağıdakı kimi işləyir:\n",
    "\n",
    "np.allclose(a, b, rtol, atol)\n",
    "\n",
    "Arxa planda *a* və *b* arraylərinin bütün elementləri üçün aşağıdakı yoxlanış keçirilir:\n",
    "\n",
    "|a - b| <= atol + rtol * |b|\n",
    "\n",
    "Əgər bütün yoxlanışların nəticəsi **True** olarsa nəticə **True**, əks halda **False** olur."
   ]
  },
  {
   "cell_type": "code",
   "execution_count": null,
   "metadata": {},
   "outputs": [],
   "source": [
    "a = np.array([2.530001, 4.3, 25.2199953, 2])\n",
    "b = np.array([2.53, 4.299993, 25.22, 1.999999])\n",
    "rtol = 0.0001\n",
    "atol = 0.000000001\n",
    "\n",
    "result = np.allclose(a, b, rtol, atol)\n",
    "print(result)"
   ]
  },
  {
   "cell_type": "markdown",
   "metadata": {},
   "source": [
    "#### Reshape\n",
    "\n",
    "Bəzən əlimizdə olan arrayin ölçüləri bizim istədiyimiz kimi olmadığından, onun **shape**-ini dəyişməli oluruq. Bunun üçün **np.reshape** methodu mövcuddur. Aşağıdakı nümunədə bunu göstərmək üçün 18 elementdən ibarət birölçülü array yaradıram. Daha sonra isə, onu (6, 3) shape-ində olan ikiölçülü arrayə çevirirəm."
   ]
  },
  {
   "cell_type": "code",
   "execution_count": null,
   "metadata": {},
   "outputs": [],
   "source": [
    "xs = np.linspace(1, 100, 18)\n",
    "reshaped_xs = np.reshape(xs, (6, 3))\n",
    "\n",
    "print(xs)\n",
    "print()\n",
    "print(reshaped_xs)"
   ]
  },
  {
   "cell_type": "markdown",
   "metadata": {},
   "source": [
    "Burada əlavə bir məqam var. Arrayimiz 18 elementdən ibarət olduğu üçün, ölçülərinin hasilinin 18 etməli olduğunu bilirik. Arrayin ölçüsü 18 yox, daha kompleks bir ədəd olsa, biz onu asanlıqla reshape edə bilməyəcəyik. Gərək yeni shape-in ölçülərini özümüz hesablayaq. Məsələn:"
   ]
  },
  {
   "cell_type": "code",
   "execution_count": null,
   "metadata": {},
   "outputs": [],
   "source": [
    "xs = np.linspace(1, 408184, 408184)\n",
    "\n",
    "shape_0 = 408184 // 7\n",
    "new_shape = (shape_0, 7)\n",
    "\n",
    "reshaped_xs = np.reshape(xs, new_shape)\n",
    "\n",
    "print(xs)\n",
    "print()\n",
    "print(reshaped_xs)"
   ]
  },
  {
   "cell_type": "markdown",
   "metadata": {},
   "source": [
    "Burada bizim etdiyimiz əməliyyatlar bir qədər kodu qarışdırır. Biz istəyirik ki, 7 sütundan ibarət bir arrayə çevirək arrayimizi. Lakin bunun üçün 408184 ədədini 7yə bölüb digər ölçünü də tapmalı oluruq. NumPy bizə icazə verir ki, bunun əvəzinə sadəcə olaraq -1 yazaq. Yəni yekun kodumuz aşağıdakı sadə formasını alacaq:"
   ]
  },
  {
   "cell_type": "code",
   "execution_count": null,
   "metadata": {},
   "outputs": [],
   "source": [
    "xs = np.linspace(1, 408184, 408184)\n",
    "reshaped_xs = np.reshape(xs, (-1, 7))\n",
    "\n",
    "print(xs)\n",
    "print()\n",
    "print(reshaped_xs)"
   ]
  },
  {
   "cell_type": "markdown",
   "metadata": {},
   "source": [
    "#### Sort, Min, Max\n",
    "\n",
    "Pythonda adi listlərdə olduğu kimi, NumPy arrayləri üçün də **sort, min, max** funksionallıqları mövcuddur."
   ]
  },
  {
   "cell_type": "code",
   "execution_count": null,
   "metadata": {},
   "outputs": [],
   "source": [
    "xs = np.array([2, 16, 8, 34, 12, 62, 63, 5])\n",
    "print(xs)"
   ]
  },
  {
   "cell_type": "code",
   "execution_count": null,
   "metadata": {},
   "outputs": [],
   "source": [
    "sorted_xs = np.sort(xs)\n",
    "max_xs = np.max(xs)\n",
    "min_xs = np.min(xs)\n",
    "\n",
    "print(\"Sorted:\", sorted_xs)\n",
    "print(\"Max:\", max_xs)\n",
    "print(\"Min:\", min_xs)"
   ]
  },
  {
   "cell_type": "markdown",
   "metadata": {},
   "source": [
    "#### Argsort, Argmin, Argmax\n",
    "\n",
    "Bəzi hallarda arrayin özü ilə deyil, indeksləri ilə işləmək lazım olur. Bunun üçün də, **argsort, argmin, argmax** funksionallıqları bizə kömək edə bilər. Bu üç funksiyanın işləmə prinsipi **sort, min, max** ilə eynidir, sadəcə olaraq bizə arrayin öz elementlərini deyil, elementlərin indekslərini verir."
   ]
  },
  {
   "cell_type": "code",
   "execution_count": null,
   "metadata": {},
   "outputs": [],
   "source": [
    "xs = np.array([2, 16, 8, 34, 12, 62, 63, 5])\n",
    "print(xs)"
   ]
  },
  {
   "cell_type": "code",
   "execution_count": null,
   "metadata": {},
   "outputs": [],
   "source": [
    "argsorted_xs = np.argsort(xs)\n",
    "argmax_xs = np.argmax(xs)\n",
    "argmin_xs = np.argmin(xs)\n",
    "\n",
    "print(\"Arg sort:\", argsorted_xs)\n",
    "print(\"Arg max:\", argmax_xs)\n",
    "print(\"Arg min:\", argmin_xs)"
   ]
  },
  {
   "cell_type": "markdown",
   "metadata": {},
   "source": [
    "Bu indekslərdən istifadə edərək arrayin elementlərini də götürmək mümkündür."
   ]
  },
  {
   "cell_type": "code",
   "execution_count": null,
   "metadata": {},
   "outputs": [],
   "source": [
    "print(\"Sorted:\", xs[argsorted_xs])\n",
    "print(\"Max:\", xs[argmax_xs])\n",
    "print(\"Min:\", xs[argmin_xs])"
   ]
  },
  {
   "cell_type": "markdown",
   "metadata": {},
   "source": [
    "## Yekun\n",
    "\n",
    "NumPy modülünün bütün incəliklərini bir dəfəyə əhatə etmək mümkün olmasa da, ümid edirəm ki, əsas məqamları diqqətə çatdıra bildim. Yeni öyrənənlərə bu notebookda olan bütün konseptləri bir neçə dəfə oxumağı və ayrı bir Jupyter Notebookda test etməyi tövsiyə edirəm. Bütün konseptləri tam qavradığınıza əmin olduqdan sonra aşağıdakı GitHub linkində yerləşən çalışmalar tapa bilərsiniz.\n",
    "\n",
    "https://github.com/hseysen/python/blob/master/mod%C3%BCll%C9%99r/numpy/NumPy_exercise.ipynb\n",
    "\n",
    "Əgər yazılı izahlarda hər hansı bir çətinliyiniz olsa, CIK ACADEMY YouTube kanalından bu modül barədə olan dərsin videosuna baxa bilərsiniz. Videoda bu Jupyter Notebook üzərindən izah verirəm. Bu kimi dərslərin davamı üçün kanala abunə olub, videonu bəyənsəniz, minnətdar olaram."
   ]
  }
 ],
 "metadata": {
  "kernelspec": {
   "display_name": "Python 3",
   "language": "python",
   "name": "python3"
  },
  "language_info": {
   "codemirror_mode": {
    "name": "ipython",
    "version": 3
   },
   "file_extension": ".py",
   "mimetype": "text/x-python",
   "name": "python",
   "nbconvert_exporter": "python",
   "pygments_lexer": "ipython3",
   "version": "3.7.6"
  }
 },
 "nbformat": 4,
 "nbformat_minor": 4
}
